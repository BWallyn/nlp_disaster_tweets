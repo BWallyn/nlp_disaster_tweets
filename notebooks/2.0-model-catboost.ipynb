{
 "cells": [
  {
   "cell_type": "markdown",
   "metadata": {},
   "source": [
    "# Model Catboost\n",
    "\n",
    "# 1. Imports\n",
    "\n",
    "## 1.1 Packages"
   ]
  },
  {
   "cell_type": "code",
   "execution_count": 1,
   "metadata": {},
   "outputs": [],
   "source": [
    "import os\n",
    "import sys\n",
    "\n",
    "from collections import defaultdict\n",
    "from operator import contains\n",
    "import pandas as pd\n",
    "\n",
    "from catboost import Pool, cv\n",
    "from wordcloud import STOPWORDS\n",
    "\n",
    "\n",
    "from typing import List, Tuple\n",
    "\n",
    "import matplotlib.pyplot as plt\n",
    "import seaborn as sns"
   ]
  },
  {
   "cell_type": "code",
   "execution_count": 2,
   "metadata": {},
   "outputs": [],
   "source": [
    "# Option packages\n",
    "\n",
    "pd.set_option('display.max_columns', 500)\n",
    "\n",
    "%load_ext autoreload\n",
    "%autoreload 2"
   ]
  },
  {
   "cell_type": "code",
   "execution_count": 3,
   "metadata": {},
   "outputs": [],
   "source": [
    "sys.path.append('../src/')\n",
    "from features.build_features import word_count_tweet, unique_word_count_tweet, url_count_tweet, mean_word_length_tweet,\\\n",
    "    char_count_tweet, punctuation_count_tweet, hashtag_count_tweet, mention_count_tweet"
   ]
  },
  {
   "cell_type": "markdown",
   "metadata": {},
   "source": [
    "## 1.2 Options"
   ]
  },
  {
   "cell_type": "code",
   "execution_count": 4,
   "metadata": {},
   "outputs": [],
   "source": [
    "path_data = '../data/raw/'"
   ]
  },
  {
   "cell_type": "markdown",
   "metadata": {},
   "source": [
    "## 1.3 Dataset"
   ]
  },
  {
   "cell_type": "code",
   "execution_count": 5,
   "metadata": {},
   "outputs": [],
   "source": [
    "df = pd.read_csv(os.path.join(path_data, 'train.csv'), index_col=0)"
   ]
  },
  {
   "cell_type": "markdown",
   "metadata": {},
   "source": [
    "# 2. Prepare data"
   ]
  },
  {
   "cell_type": "code",
   "execution_count": 6,
   "metadata": {},
   "outputs": [],
   "source": [
    "df = df.pipe(word_count_tweet)\\\n",
    "    .pipe(unique_word_count_tweet)\\\n",
    "    .pipe(url_count_tweet)\\\n",
    "    .pipe(mean_word_length_tweet)\\\n",
    "    .pipe(char_count_tweet)\\\n",
    "    .pipe(punctuation_count_tweet)\\\n",
    "    .pipe(hashtag_count_tweet)\\\n",
    "    .pipe(mention_count_tweet)\n",
    "\n",
    "df['keyword'] = df.keyword.fillna('uknwn')\n",
    "df['location'] = df.location.fillna('uknwn')"
   ]
  },
  {
   "cell_type": "code",
   "execution_count": 7,
   "metadata": {},
   "outputs": [
    {
     "data": {
      "text/html": [
       "<div>\n",
       "<style scoped>\n",
       "    .dataframe tbody tr th:only-of-type {\n",
       "        vertical-align: middle;\n",
       "    }\n",
       "\n",
       "    .dataframe tbody tr th {\n",
       "        vertical-align: top;\n",
       "    }\n",
       "\n",
       "    .dataframe thead th {\n",
       "        text-align: right;\n",
       "    }\n",
       "</style>\n",
       "<table border=\"1\" class=\"dataframe\">\n",
       "  <thead>\n",
       "    <tr style=\"text-align: right;\">\n",
       "      <th></th>\n",
       "      <th>keyword</th>\n",
       "      <th>location</th>\n",
       "      <th>text</th>\n",
       "      <th>target</th>\n",
       "      <th>word_count</th>\n",
       "      <th>unique_word_count</th>\n",
       "      <th>url_count</th>\n",
       "      <th>mean_word_length</th>\n",
       "      <th>char_count</th>\n",
       "      <th>punctuation_count</th>\n",
       "      <th>hashtag_count</th>\n",
       "      <th>mention_count</th>\n",
       "    </tr>\n",
       "    <tr>\n",
       "      <th>id</th>\n",
       "      <th></th>\n",
       "      <th></th>\n",
       "      <th></th>\n",
       "      <th></th>\n",
       "      <th></th>\n",
       "      <th></th>\n",
       "      <th></th>\n",
       "      <th></th>\n",
       "      <th></th>\n",
       "      <th></th>\n",
       "      <th></th>\n",
       "      <th></th>\n",
       "    </tr>\n",
       "  </thead>\n",
       "  <tbody>\n",
       "    <tr>\n",
       "      <th>5758</th>\n",
       "      <td>forest%20fires</td>\n",
       "      <td>uknwn</td>\n",
       "      <td>I'm about to cook your Smokey the Bear saving ...</td>\n",
       "      <td>0</td>\n",
       "      <td>14</td>\n",
       "      <td>14</td>\n",
       "      <td>1</td>\n",
       "      <td>5.571429</td>\n",
       "      <td>92</td>\n",
       "      <td>6</td>\n",
       "      <td>0</td>\n",
       "      <td>0</td>\n",
       "    </tr>\n",
       "    <tr>\n",
       "      <th>7932</th>\n",
       "      <td>rainstorm</td>\n",
       "      <td>Memphis, TN</td>\n",
       "      <td>If you can't have the roar of the waves a rain...</td>\n",
       "      <td>0</td>\n",
       "      <td>15</td>\n",
       "      <td>14</td>\n",
       "      <td>1</td>\n",
       "      <td>5.533333</td>\n",
       "      <td>97</td>\n",
       "      <td>9</td>\n",
       "      <td>0</td>\n",
       "      <td>0</td>\n",
       "    </tr>\n",
       "    <tr>\n",
       "      <th>3833</th>\n",
       "      <td>detonate</td>\n",
       "      <td>back in japan ??????????</td>\n",
       "      <td>Detonate (feat. M?.?O?.?P?.?)\\nfrom Grandeur b...</td>\n",
       "      <td>0</td>\n",
       "      <td>9</td>\n",
       "      <td>9</td>\n",
       "      <td>1</td>\n",
       "      <td>8.222222</td>\n",
       "      <td>82</td>\n",
       "      <td>17</td>\n",
       "      <td>0</td>\n",
       "      <td>0</td>\n",
       "    </tr>\n",
       "    <tr>\n",
       "      <th>6420</th>\n",
       "      <td>hurricane</td>\n",
       "      <td>uknwn</td>\n",
       "      <td>@pattonoswalt @FoxNews Wait I thought Fecal Hu...</td>\n",
       "      <td>1</td>\n",
       "      <td>22</td>\n",
       "      <td>21</td>\n",
       "      <td>0</td>\n",
       "      <td>5.227273</td>\n",
       "      <td>136</td>\n",
       "      <td>6</td>\n",
       "      <td>0</td>\n",
       "      <td>2</td>\n",
       "    </tr>\n",
       "    <tr>\n",
       "      <th>10355</th>\n",
       "      <td>weapons</td>\n",
       "      <td>uknwn</td>\n",
       "      <td>@NRO Except when ordered not to carry unauthor...</td>\n",
       "      <td>1</td>\n",
       "      <td>20</td>\n",
       "      <td>20</td>\n",
       "      <td>0</td>\n",
       "      <td>4.900000</td>\n",
       "      <td>117</td>\n",
       "      <td>2</td>\n",
       "      <td>0</td>\n",
       "      <td>1</td>\n",
       "    </tr>\n",
       "  </tbody>\n",
       "</table>\n",
       "</div>"
      ],
      "text/plain": [
       "              keyword                  location  \\\n",
       "id                                                \n",
       "5758   forest%20fires                     uknwn   \n",
       "7932        rainstorm               Memphis, TN   \n",
       "3833         detonate  back in japan ??????????   \n",
       "6420        hurricane                     uknwn   \n",
       "10355         weapons                     uknwn   \n",
       "\n",
       "                                                    text  target  word_count  \\\n",
       "id                                                                             \n",
       "5758   I'm about to cook your Smokey the Bear saving ...       0          14   \n",
       "7932   If you can't have the roar of the waves a rain...       0          15   \n",
       "3833   Detonate (feat. M?.?O?.?P?.?)\\nfrom Grandeur b...       0           9   \n",
       "6420   @pattonoswalt @FoxNews Wait I thought Fecal Hu...       1          22   \n",
       "10355  @NRO Except when ordered not to carry unauthor...       1          20   \n",
       "\n",
       "       unique_word_count  url_count  mean_word_length  char_count  \\\n",
       "id                                                                  \n",
       "5758                  14          1          5.571429          92   \n",
       "7932                  14          1          5.533333          97   \n",
       "3833                   9          1          8.222222          82   \n",
       "6420                  21          0          5.227273         136   \n",
       "10355                 20          0          4.900000         117   \n",
       "\n",
       "       punctuation_count  hashtag_count  mention_count  \n",
       "id                                                      \n",
       "5758                   6              0              0  \n",
       "7932                   9              0              0  \n",
       "3833                  17              0              0  \n",
       "6420                   6              0              2  \n",
       "10355                  2              0              1  "
      ]
     },
     "execution_count": 7,
     "metadata": {},
     "output_type": "execute_result"
    }
   ],
   "source": [
    "df.sample(5)"
   ]
  },
  {
   "cell_type": "code",
   "execution_count": 8,
   "metadata": {},
   "outputs": [],
   "source": [
    "X_train = df[list(set(df.columns) - set('target'))]\n",
    "y_train = df.target"
   ]
  },
  {
   "cell_type": "markdown",
   "metadata": {},
   "source": [
    "# 3. Model CatBoost"
   ]
  },
  {
   "cell_type": "code",
   "execution_count": 9,
   "metadata": {},
   "outputs": [],
   "source": [
    "feat_cat = [\n",
    "    'location', 'keyword', 'text',\n",
    "]"
   ]
  },
  {
   "cell_type": "code",
   "execution_count": 11,
   "metadata": {},
   "outputs": [
    {
     "data": {
      "application/vnd.jupyter.widget-view+json": {
       "model_id": "309cf9bd3bdd4e22b0d2b16101cd847a",
       "version_major": 2,
       "version_minor": 0
      },
      "text/plain": [
       "MetricVisualizer(layout=Layout(align_self='stretch', height='500px'))"
      ]
     },
     "metadata": {},
     "output_type": "display_data"
    },
    {
     "name": "stdout",
     "output_type": "stream",
     "text": [
      "Training on fold [0/5]\n",
      "0:\tlearn: 0.5895329\ttest: 0.5898311\tbest: 0.5898311 (0)\ttotal: 213ms\tremaining: 3m 33s\n",
      "100:\tlearn: 0.0004649\ttest: 0.0004581\tbest: 0.0004581 (100)\ttotal: 5.65s\tremaining: 50.3s\n",
      "200:\tlearn: 0.0003269\ttest: 0.0003216\tbest: 0.0003216 (199)\ttotal: 9.93s\tremaining: 39.5s\n",
      "300:\tlearn: 0.0003113\ttest: 0.0003063\tbest: 0.0003063 (300)\ttotal: 13.8s\tremaining: 32s\n",
      "400:\tlearn: 0.0003111\ttest: 0.0003060\tbest: 0.0003060 (400)\ttotal: 17.8s\tremaining: 26.6s\n",
      "500:\tlearn: 0.0003109\ttest: 0.0003058\tbest: 0.0003058 (500)\ttotal: 21.5s\tremaining: 21.4s\n",
      "600:\tlearn: 0.0003107\ttest: 0.0003056\tbest: 0.0003056 (598)\ttotal: 25.2s\tremaining: 16.8s\n",
      "700:\tlearn: 0.0003105\ttest: 0.0003055\tbest: 0.0003055 (700)\ttotal: 29.1s\tremaining: 12.4s\n",
      "800:\tlearn: 0.0003102\ttest: 0.0003051\tbest: 0.0003051 (800)\ttotal: 33s\tremaining: 8.19s\n",
      "900:\tlearn: 0.0003100\ttest: 0.0003049\tbest: 0.0003049 (900)\ttotal: 36.8s\tremaining: 4.04s\n",
      "999:\tlearn: 0.0003099\ttest: 0.0003048\tbest: 0.0003048 (997)\ttotal: 40.7s\tremaining: 0us\n",
      "\n",
      "bestTest = 0.0003047967472\n",
      "bestIteration = 997\n",
      "\n",
      "Training on fold [1/5]\n",
      "0:\tlearn: 0.5894462\ttest: 0.5897419\tbest: 0.5897419 (0)\ttotal: 39.4ms\tremaining: 39.4s\n",
      "100:\tlearn: 0.0003832\ttest: 0.0004009\tbest: 0.0004009 (100)\ttotal: 5.03s\tremaining: 44.8s\n",
      "200:\tlearn: 0.0003249\ttest: 0.0003404\tbest: 0.0003404 (199)\ttotal: 9.06s\tremaining: 36s\n",
      "300:\tlearn: 0.0003103\ttest: 0.0003252\tbest: 0.0003252 (300)\ttotal: 13s\tremaining: 30.2s\n",
      "400:\tlearn: 0.0003100\ttest: 0.0003249\tbest: 0.0003249 (400)\ttotal: 17.1s\tremaining: 25.5s\n",
      "500:\tlearn: 0.0003096\ttest: 0.0003245\tbest: 0.0003245 (500)\ttotal: 20.9s\tremaining: 20.8s\n",
      "600:\tlearn: 0.0003094\ttest: 0.0003242\tbest: 0.0003242 (600)\ttotal: 24.9s\tremaining: 16.5s\n",
      "700:\tlearn: 0.0003092\ttest: 0.0003241\tbest: 0.0003241 (700)\ttotal: 28.8s\tremaining: 12.3s\n",
      "800:\tlearn: 0.0003091\ttest: 0.0003240\tbest: 0.0003240 (800)\ttotal: 32.7s\tremaining: 8.12s\n",
      "900:\tlearn: 0.0003090\ttest: 0.0003238\tbest: 0.0003238 (900)\ttotal: 36.7s\tremaining: 4.04s\n",
      "999:\tlearn: 0.0003088\ttest: 0.0003237\tbest: 0.0003237 (999)\ttotal: 40.5s\tremaining: 0us\n",
      "\n",
      "bestTest = 0.0003236959007\n",
      "bestIteration = 999\n",
      "\n",
      "Training on fold [2/5]\n",
      "0:\tlearn: 0.5820294\ttest: 0.5818949\tbest: 0.5818949 (0)\ttotal: 16.6ms\tremaining: 16.6s\n",
      "100:\tlearn: 0.0004887\ttest: 0.0004520\tbest: 0.0004520 (100)\ttotal: 5.29s\tremaining: 47.1s\n",
      "200:\tlearn: 0.0003616\ttest: 0.0003271\tbest: 0.0003271 (200)\ttotal: 9.53s\tremaining: 37.9s\n",
      "300:\tlearn: 0.0003535\ttest: 0.0003188\tbest: 0.0003188 (300)\ttotal: 13.7s\tremaining: 31.8s\n",
      "400:\tlearn: 0.0003533\ttest: 0.0003186\tbest: 0.0003186 (400)\ttotal: 17.8s\tremaining: 26.6s\n",
      "500:\tlearn: 0.0003531\ttest: 0.0003184\tbest: 0.0003184 (500)\ttotal: 22s\tremaining: 21.9s\n",
      "600:\tlearn: 0.0003530\ttest: 0.0003183\tbest: 0.0003183 (600)\ttotal: 26s\tremaining: 17.3s\n",
      "700:\tlearn: 0.0003528\ttest: 0.0003182\tbest: 0.0003182 (698)\ttotal: 30s\tremaining: 12.8s\n",
      "800:\tlearn: 0.0003527\ttest: 0.0003180\tbest: 0.0003180 (800)\ttotal: 34.1s\tremaining: 8.46s\n",
      "900:\tlearn: 0.0003524\ttest: 0.0003177\tbest: 0.0003177 (900)\ttotal: 38.3s\tremaining: 4.21s\n",
      "999:\tlearn: 0.0003521\ttest: 0.0003174\tbest: 0.0003174 (997)\ttotal: 42.3s\tremaining: 0us\n",
      "\n",
      "bestTest = 0.0003173707025\n",
      "bestIteration = 997\n",
      "\n",
      "Training on fold [3/5]\n",
      "0:\tlearn: 0.5820382\ttest: 0.5818580\tbest: 0.5818580 (0)\ttotal: 15.5ms\tremaining: 15.4s\n",
      "100:\tlearn: 0.0005309\ttest: 0.0004882\tbest: 0.0004882 (99)\ttotal: 5.53s\tremaining: 49.2s\n",
      "200:\tlearn: 0.0003834\ttest: 0.0003485\tbest: 0.0003485 (198)\ttotal: 9.72s\tremaining: 38.6s\n",
      "300:\tlearn: 0.0003735\ttest: 0.0003396\tbest: 0.0003396 (300)\ttotal: 13.9s\tremaining: 32.3s\n",
      "400:\tlearn: 0.0003732\ttest: 0.0003393\tbest: 0.0003393 (400)\ttotal: 17.9s\tremaining: 26.8s\n",
      "500:\tlearn: 0.0003730\ttest: 0.0003391\tbest: 0.0003391 (500)\ttotal: 21.9s\tremaining: 21.9s\n",
      "600:\tlearn: 0.0003728\ttest: 0.0003389\tbest: 0.0003389 (600)\ttotal: 25.9s\tremaining: 17.2s\n",
      "700:\tlearn: 0.0003724\ttest: 0.0003386\tbest: 0.0003386 (700)\ttotal: 30.3s\tremaining: 12.9s\n",
      "800:\tlearn: 0.0003723\ttest: 0.0003385\tbest: 0.0003385 (799)\ttotal: 34.4s\tremaining: 8.54s\n",
      "900:\tlearn: 0.0003722\ttest: 0.0003384\tbest: 0.0003384 (899)\ttotal: 38.7s\tremaining: 4.25s\n",
      "999:\tlearn: 0.0003721\ttest: 0.0003382\tbest: 0.0003382 (999)\ttotal: 42.9s\tremaining: 0us\n",
      "\n",
      "bestTest = 0.0003382372138\n",
      "bestIteration = 999\n",
      "\n",
      "Training on fold [4/5]\n",
      "0:\tlearn: 0.5819418\ttest: 0.5822745\tbest: 0.5822745 (0)\ttotal: 16.4ms\tremaining: 16.4s\n",
      "100:\tlearn: 0.0005250\ttest: 0.0005188\tbest: 0.0005188 (100)\ttotal: 5.5s\tremaining: 49s\n",
      "200:\tlearn: 0.0003623\ttest: 0.0003606\tbest: 0.0003606 (200)\ttotal: 9.76s\tremaining: 38.8s\n",
      "300:\tlearn: 0.0003530\ttest: 0.0003512\tbest: 0.0003512 (300)\ttotal: 14s\tremaining: 32.4s\n",
      "400:\tlearn: 0.0003527\ttest: 0.0003510\tbest: 0.0003510 (399)\ttotal: 18.2s\tremaining: 27.2s\n",
      "500:\tlearn: 0.0003523\ttest: 0.0003506\tbest: 0.0003506 (500)\ttotal: 22.4s\tremaining: 22.4s\n",
      "600:\tlearn: 0.0003519\ttest: 0.0003502\tbest: 0.0003502 (600)\ttotal: 26.6s\tremaining: 17.7s\n",
      "700:\tlearn: 0.0003517\ttest: 0.0003500\tbest: 0.0003500 (700)\ttotal: 30.8s\tremaining: 13.2s\n",
      "800:\tlearn: 0.0003514\ttest: 0.0003497\tbest: 0.0003497 (800)\ttotal: 35.6s\tremaining: 8.85s\n",
      "900:\tlearn: 0.0003509\ttest: 0.0003493\tbest: 0.0003493 (900)\ttotal: 40.6s\tremaining: 4.46s\n",
      "999:\tlearn: 0.0003506\ttest: 0.0003490\tbest: 0.0003490 (999)\ttotal: 44.8s\tremaining: 0us\n",
      "\n",
      "bestTest = 0.0003489775269\n",
      "bestIteration = 999\n",
      "\n"
     ]
    }
   ],
   "source": [
    "params = {\n",
    "    'loss_function': 'Logloss',\n",
    "    'iterations': 100,\n",
    "}\n",
    "\n",
    "train_pool = Pool(data=X_train, label=y_train, cat_features=feat_cat, has_header=True)\n",
    "\n",
    "cv_data = cv(\n",
    "    params=params,\n",
    "    pool=train_pool,\n",
    "    fold_count=5,\n",
    "    shuffle=True,\n",
    "    partition_random_seed=42,\n",
    "    stratified=True,\n",
    "    plot=True,\n",
    "    verbose=20,\n",
    ")"
   ]
  },
  {
   "cell_type": "code",
   "execution_count": null,
   "metadata": {},
   "outputs": [],
   "source": []
  },
  {
   "cell_type": "code",
   "execution_count": null,
   "metadata": {},
   "outputs": [],
   "source": []
  }
 ],
 "metadata": {
  "kernelspec": {
   "display_name": "Python 3.9.7 ('py39')",
   "language": "python",
   "name": "python3"
  },
  "language_info": {
   "codemirror_mode": {
    "name": "ipython",
    "version": 3
   },
   "file_extension": ".py",
   "mimetype": "text/x-python",
   "name": "python",
   "nbconvert_exporter": "python",
   "pygments_lexer": "ipython3",
   "version": "3.9.7"
  },
  "orig_nbformat": 4,
  "vscode": {
   "interpreter": {
    "hash": "7056ba133fe357d048467222d1cddd6a8b2fb819d58194ca7ddfb20c0a6737d5"
   }
  }
 },
 "nbformat": 4,
 "nbformat_minor": 2
}
